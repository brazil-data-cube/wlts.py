{
 "cells": [
  {
   "cell_type": "markdown",
   "metadata": {},
   "source": [
    "# <span style=\"color:#336699\">Web Land Trajectory Service - Python Client API [<img src=\"../img/bdc-logo.png\" alt=\"Brazil Data Cube - Python Sample Client\" style=\"height:100px;\" align=\"right\">](https://github.com/brazil-data-cube/sample.py)</span>\n",
    "\n",
    "\n",
    "\n",
    "<hr style=\"border:2px solid #0077b9;\">\n",
    "\n",
    "# <span style=\"color:#336699\"> Examples o wlts.py</span> "
   ]
  },
  {
   "cell_type": "markdown",
   "metadata": {},
   "source": [
    "###  Import the required libraries \n",
    "<hr style=\"border:1px solid #0077b9;\">"
   ]
  },
  {
   "cell_type": "code",
   "execution_count": 1,
   "metadata": {},
   "outputs": [],
   "source": [
    "import wlts"
   ]
  },
  {
   "cell_type": "markdown",
   "metadata": {},
   "source": [
    "#### After that, you can check the installed version of wlts client package:"
   ]
  },
  {
   "cell_type": "code",
   "execution_count": 2,
   "metadata": {
    "scrolled": true
   },
   "outputs": [
    {
     "data": {
      "text/plain": [
       "'0.2.0'"
      ]
     },
     "execution_count": 2,
     "metadata": {},
     "output_type": "execute_result"
    }
   ],
   "source": [
    "wlts.__version__"
   ]
  },
  {
   "cell_type": "markdown",
   "metadata": {},
   "source": [
    "#### Create wlts object by passing the URL of WLTS service."
   ]
  },
  {
   "cell_type": "code",
   "execution_count": 3,
   "metadata": {},
   "outputs": [],
   "source": [
    "wlts_ob = wlts.wlts('http://brazildatacube.dpi.inpe.br/wlts/')"
   ]
  },
  {
   "cell_type": "markdown",
   "metadata": {},
   "source": [
    "###  WLTS operations\n",
    "<hr style=\"border:1px solid #0077b9;\">"
   ]
  },
  {
   "cell_type": "markdown",
   "metadata": {},
   "source": [
    "#### Retrive the collections avaliable in WLTS"
   ]
  },
  {
   "cell_type": "code",
   "execution_count": 4,
   "metadata": {},
   "outputs": [
    {
     "data": {
      "text/plain": [
       "{'collections': ['deter_amz_legal',\n",
       "  'deter_cerrado',\n",
       "  'prodes_cerrado',\n",
       "  'terraclass_amz',\n",
       "  'prodes_amz_legal',\n",
       "  'mapbiomas_amz_4_1',\n",
       "  'mapbiomas_cerrado_4_1']}"
      ]
     },
     "execution_count": 4,
     "metadata": {},
     "output_type": "execute_result"
    }
   ],
   "source": [
    "wlts_ob.list_collections()"
   ]
  },
  {
   "cell_type": "markdown",
   "metadata": {},
   "source": [
    "#### Retrive metadata of a givin collection"
   ]
  },
  {
   "cell_type": "code",
   "execution_count": 5,
   "metadata": {},
   "outputs": [
    {
     "data": {
      "text/plain": [
       "{'collection_type': 'Feature',\n",
       " 'description': 'Desmatamento Cerrado',\n",
       " 'detail': 'http://www.obt.inpe.br/OBT/assuntos/programas/amazonia/prodes',\n",
       " 'name': 'prodes_cerrado',\n",
       " 'period': {'end_date': '2019', 'start_date': '2000'},\n",
       " 'resolution_unit': {'unit': 'YEAR', 'value': '1'},\n",
       " 'spatial_extent': {'xmax': -24.6851196289062,\n",
       "  'xmin': -60.0939559936523,\n",
       "  'ymax': -2.32670903205872,\n",
       "  'ymin': -41.5224685668945}}"
      ]
     },
     "execution_count": 5,
     "metadata": {},
     "output_type": "execute_result"
    }
   ],
   "source": [
    "wlts_ob.describe_collection(collection_id=\"prodes_cerrado\")"
   ]
  },
  {
   "cell_type": "markdown",
   "metadata": {},
   "source": [
    "### Examples o Land Use and Cover Trajectory using WLTS"
   ]
  },
  {
   "cell_type": "markdown",
   "metadata": {},
   "source": [
    "#### Import pandas library"
   ]
  },
  {
   "cell_type": "code",
   "execution_count": 6,
   "metadata": {},
   "outputs": [],
   "source": [
    "import pandas as pd"
   ]
  },
  {
   "cell_type": "markdown",
   "metadata": {},
   "source": [
    "### Exemple of trajectory at location latitude -8.706 and longitude -64.285"
   ]
  },
  {
   "cell_type": "code",
   "execution_count": 7,
   "metadata": {},
   "outputs": [],
   "source": [
    "trajetoria = wlts_ob.trajectory(dict(latitude=-8.706, longitude=-64.285))"
   ]
  },
  {
   "cell_type": "code",
   "execution_count": 8,
   "metadata": {},
   "outputs": [
    {
     "data": {
      "text/html": [
       "<div>\n",
       "<style scoped>\n",
       "    .dataframe tbody tr th:only-of-type {\n",
       "        vertical-align: middle;\n",
       "    }\n",
       "\n",
       "    .dataframe tbody tr th {\n",
       "        vertical-align: top;\n",
       "    }\n",
       "\n",
       "    .dataframe thead th {\n",
       "        text-align: right;\n",
       "    }\n",
       "</style>\n",
       "<table border=\"1\" class=\"dataframe\">\n",
       "  <thead>\n",
       "    <tr style=\"text-align: right;\">\n",
       "      <th></th>\n",
       "      <th>class</th>\n",
       "      <th>collection</th>\n",
       "      <th>date</th>\n",
       "    </tr>\n",
       "  </thead>\n",
       "  <tbody>\n",
       "    <tr>\n",
       "      <th>0</th>\n",
       "      <td>Floresta</td>\n",
       "      <td>terraclass_amz</td>\n",
       "      <td>2004</td>\n",
       "    </tr>\n",
       "    <tr>\n",
       "      <th>1</th>\n",
       "      <td>Desmatamento</td>\n",
       "      <td>prodes_amz_legal</td>\n",
       "      <td>2007</td>\n",
       "    </tr>\n",
       "    <tr>\n",
       "      <th>2</th>\n",
       "      <td>Pastagem</td>\n",
       "      <td>mapbiomas_amz_4_1</td>\n",
       "      <td>2007</td>\n",
       "    </tr>\n",
       "    <tr>\n",
       "      <th>3</th>\n",
       "      <td>Pasto Limpo</td>\n",
       "      <td>terraclass_amz</td>\n",
       "      <td>2008</td>\n",
       "    </tr>\n",
       "    <tr>\n",
       "      <th>4</th>\n",
       "      <td>Pastagem</td>\n",
       "      <td>mapbiomas_amz_4_1</td>\n",
       "      <td>2008</td>\n",
       "    </tr>\n",
       "    <tr>\n",
       "      <th>5</th>\n",
       "      <td>Pastagem</td>\n",
       "      <td>mapbiomas_amz_4_1</td>\n",
       "      <td>2009</td>\n",
       "    </tr>\n",
       "    <tr>\n",
       "      <th>6</th>\n",
       "      <td>Pasto Limpo</td>\n",
       "      <td>terraclass_amz</td>\n",
       "      <td>2010</td>\n",
       "    </tr>\n",
       "    <tr>\n",
       "      <th>7</th>\n",
       "      <td>Pastagem</td>\n",
       "      <td>mapbiomas_amz_4_1</td>\n",
       "      <td>2010</td>\n",
       "    </tr>\n",
       "    <tr>\n",
       "      <th>8</th>\n",
       "      <td>Pastagem</td>\n",
       "      <td>mapbiomas_amz_4_1</td>\n",
       "      <td>2011</td>\n",
       "    </tr>\n",
       "    <tr>\n",
       "      <th>9</th>\n",
       "      <td>Pasto Limpo</td>\n",
       "      <td>terraclass_amz</td>\n",
       "      <td>2012</td>\n",
       "    </tr>\n",
       "    <tr>\n",
       "      <th>10</th>\n",
       "      <td>Pastagem</td>\n",
       "      <td>mapbiomas_amz_4_1</td>\n",
       "      <td>2012</td>\n",
       "    </tr>\n",
       "    <tr>\n",
       "      <th>11</th>\n",
       "      <td>Pastagem</td>\n",
       "      <td>mapbiomas_amz_4_1</td>\n",
       "      <td>2013</td>\n",
       "    </tr>\n",
       "    <tr>\n",
       "      <th>12</th>\n",
       "      <td>Pasto Limpo</td>\n",
       "      <td>terraclass_amz</td>\n",
       "      <td>2014</td>\n",
       "    </tr>\n",
       "    <tr>\n",
       "      <th>13</th>\n",
       "      <td>Pastagem</td>\n",
       "      <td>mapbiomas_amz_4_1</td>\n",
       "      <td>2014</td>\n",
       "    </tr>\n",
       "    <tr>\n",
       "      <th>14</th>\n",
       "      <td>Pastagem</td>\n",
       "      <td>mapbiomas_amz_4_1</td>\n",
       "      <td>2015</td>\n",
       "    </tr>\n",
       "    <tr>\n",
       "      <th>15</th>\n",
       "      <td>Pastagem</td>\n",
       "      <td>mapbiomas_amz_4_1</td>\n",
       "      <td>2016</td>\n",
       "    </tr>\n",
       "    <tr>\n",
       "      <th>16</th>\n",
       "      <td>Pastagem</td>\n",
       "      <td>mapbiomas_amz_4_1</td>\n",
       "      <td>2017</td>\n",
       "    </tr>\n",
       "    <tr>\n",
       "      <th>17</th>\n",
       "      <td>Pastagem</td>\n",
       "      <td>mapbiomas_amz_4_1</td>\n",
       "      <td>2018</td>\n",
       "    </tr>\n",
       "  </tbody>\n",
       "</table>\n",
       "</div>"
      ],
      "text/plain": [
       "           class         collection  date\n",
       "0       Floresta     terraclass_amz  2004\n",
       "1   Desmatamento   prodes_amz_legal  2007\n",
       "2       Pastagem  mapbiomas_amz_4_1  2007\n",
       "3    Pasto Limpo     terraclass_amz  2008\n",
       "4       Pastagem  mapbiomas_amz_4_1  2008\n",
       "5       Pastagem  mapbiomas_amz_4_1  2009\n",
       "6    Pasto Limpo     terraclass_amz  2010\n",
       "7       Pastagem  mapbiomas_amz_4_1  2010\n",
       "8       Pastagem  mapbiomas_amz_4_1  2011\n",
       "9    Pasto Limpo     terraclass_amz  2012\n",
       "10      Pastagem  mapbiomas_amz_4_1  2012\n",
       "11      Pastagem  mapbiomas_amz_4_1  2013\n",
       "12   Pasto Limpo     terraclass_amz  2014\n",
       "13      Pastagem  mapbiomas_amz_4_1  2014\n",
       "14      Pastagem  mapbiomas_amz_4_1  2015\n",
       "15      Pastagem  mapbiomas_amz_4_1  2016\n",
       "16      Pastagem  mapbiomas_amz_4_1  2017\n",
       "17      Pastagem  mapbiomas_amz_4_1  2018"
      ]
     },
     "execution_count": 8,
     "metadata": {},
     "output_type": "execute_result"
    }
   ],
   "source": [
    "df_traj = pd.DataFrame.from_dict(trajetoria['result']['trajectory'])\n",
    "df_traj"
   ]
  },
  {
   "cell_type": "code",
   "execution_count": 9,
   "metadata": {},
   "outputs": [],
   "source": [
    "trajetoria_two = wlts_ob.trajectory(dict(latitude=-4.090, longitude=-63.353))"
   ]
  },
  {
   "cell_type": "code",
   "execution_count": 10,
   "metadata": {},
   "outputs": [
    {
     "data": {
      "text/html": [
       "<div>\n",
       "<style scoped>\n",
       "    .dataframe tbody tr th:only-of-type {\n",
       "        vertical-align: middle;\n",
       "    }\n",
       "\n",
       "    .dataframe tbody tr th {\n",
       "        vertical-align: top;\n",
       "    }\n",
       "\n",
       "    .dataframe thead th {\n",
       "        text-align: right;\n",
       "    }\n",
       "</style>\n",
       "<table border=\"1\" class=\"dataframe\">\n",
       "  <thead>\n",
       "    <tr style=\"text-align: right;\">\n",
       "      <th></th>\n",
       "      <th>class</th>\n",
       "      <th>collection</th>\n",
       "      <th>date</th>\n",
       "    </tr>\n",
       "  </thead>\n",
       "  <tbody>\n",
       "    <tr>\n",
       "      <th>0</th>\n",
       "      <td>Hidrografia</td>\n",
       "      <td>terraclass_amz</td>\n",
       "      <td>2004</td>\n",
       "    </tr>\n",
       "    <tr>\n",
       "      <th>1</th>\n",
       "      <td>Hidrografia</td>\n",
       "      <td>prodes_amz_legal</td>\n",
       "      <td>2007</td>\n",
       "    </tr>\n",
       "    <tr>\n",
       "      <th>2</th>\n",
       "      <td>Rio, Lago e Oceano</td>\n",
       "      <td>mapbiomas_amz_4_1</td>\n",
       "      <td>2007</td>\n",
       "    </tr>\n",
       "    <tr>\n",
       "      <th>3</th>\n",
       "      <td>Hidrografia</td>\n",
       "      <td>terraclass_amz</td>\n",
       "      <td>2008</td>\n",
       "    </tr>\n",
       "    <tr>\n",
       "      <th>4</th>\n",
       "      <td>Rio, Lago e Oceano</td>\n",
       "      <td>mapbiomas_amz_4_1</td>\n",
       "      <td>2008</td>\n",
       "    </tr>\n",
       "    <tr>\n",
       "      <th>5</th>\n",
       "      <td>Rio, Lago e Oceano</td>\n",
       "      <td>mapbiomas_amz_4_1</td>\n",
       "      <td>2009</td>\n",
       "    </tr>\n",
       "    <tr>\n",
       "      <th>6</th>\n",
       "      <td>Hidrografia</td>\n",
       "      <td>terraclass_amz</td>\n",
       "      <td>2010</td>\n",
       "    </tr>\n",
       "    <tr>\n",
       "      <th>7</th>\n",
       "      <td>Rio, Lago e Oceano</td>\n",
       "      <td>mapbiomas_amz_4_1</td>\n",
       "      <td>2010</td>\n",
       "    </tr>\n",
       "    <tr>\n",
       "      <th>8</th>\n",
       "      <td>Rio, Lago e Oceano</td>\n",
       "      <td>mapbiomas_amz_4_1</td>\n",
       "      <td>2011</td>\n",
       "    </tr>\n",
       "    <tr>\n",
       "      <th>9</th>\n",
       "      <td>Hidrografia</td>\n",
       "      <td>terraclass_amz</td>\n",
       "      <td>2012</td>\n",
       "    </tr>\n",
       "    <tr>\n",
       "      <th>10</th>\n",
       "      <td>Rio, Lago e Oceano</td>\n",
       "      <td>mapbiomas_amz_4_1</td>\n",
       "      <td>2012</td>\n",
       "    </tr>\n",
       "    <tr>\n",
       "      <th>11</th>\n",
       "      <td>Rio, Lago e Oceano</td>\n",
       "      <td>mapbiomas_amz_4_1</td>\n",
       "      <td>2013</td>\n",
       "    </tr>\n",
       "    <tr>\n",
       "      <th>12</th>\n",
       "      <td>Hidrografia</td>\n",
       "      <td>terraclass_amz</td>\n",
       "      <td>2014</td>\n",
       "    </tr>\n",
       "    <tr>\n",
       "      <th>13</th>\n",
       "      <td>Rio, Lago e Oceano</td>\n",
       "      <td>mapbiomas_amz_4_1</td>\n",
       "      <td>2014</td>\n",
       "    </tr>\n",
       "    <tr>\n",
       "      <th>14</th>\n",
       "      <td>Rio, Lago e Oceano</td>\n",
       "      <td>mapbiomas_amz_4_1</td>\n",
       "      <td>2015</td>\n",
       "    </tr>\n",
       "    <tr>\n",
       "      <th>15</th>\n",
       "      <td>Rio, Lago e Oceano</td>\n",
       "      <td>mapbiomas_amz_4_1</td>\n",
       "      <td>2016</td>\n",
       "    </tr>\n",
       "    <tr>\n",
       "      <th>16</th>\n",
       "      <td>Rio, Lago e Oceano</td>\n",
       "      <td>mapbiomas_amz_4_1</td>\n",
       "      <td>2017</td>\n",
       "    </tr>\n",
       "    <tr>\n",
       "      <th>17</th>\n",
       "      <td>Rio, Lago e Oceano</td>\n",
       "      <td>mapbiomas_amz_4_1</td>\n",
       "      <td>2018</td>\n",
       "    </tr>\n",
       "  </tbody>\n",
       "</table>\n",
       "</div>"
      ],
      "text/plain": [
       "                 class         collection  date\n",
       "0          Hidrografia     terraclass_amz  2004\n",
       "1          Hidrografia   prodes_amz_legal  2007\n",
       "2   Rio, Lago e Oceano  mapbiomas_amz_4_1  2007\n",
       "3          Hidrografia     terraclass_amz  2008\n",
       "4   Rio, Lago e Oceano  mapbiomas_amz_4_1  2008\n",
       "5   Rio, Lago e Oceano  mapbiomas_amz_4_1  2009\n",
       "6          Hidrografia     terraclass_amz  2010\n",
       "7   Rio, Lago e Oceano  mapbiomas_amz_4_1  2010\n",
       "8   Rio, Lago e Oceano  mapbiomas_amz_4_1  2011\n",
       "9          Hidrografia     terraclass_amz  2012\n",
       "10  Rio, Lago e Oceano  mapbiomas_amz_4_1  2012\n",
       "11  Rio, Lago e Oceano  mapbiomas_amz_4_1  2013\n",
       "12         Hidrografia     terraclass_amz  2014\n",
       "13  Rio, Lago e Oceano  mapbiomas_amz_4_1  2014\n",
       "14  Rio, Lago e Oceano  mapbiomas_amz_4_1  2015\n",
       "15  Rio, Lago e Oceano  mapbiomas_amz_4_1  2016\n",
       "16  Rio, Lago e Oceano  mapbiomas_amz_4_1  2017\n",
       "17  Rio, Lago e Oceano  mapbiomas_amz_4_1  2018"
      ]
     },
     "execution_count": 10,
     "metadata": {},
     "output_type": "execute_result"
    }
   ],
   "source": [
    "df_traj_two = pd.DataFrame.from_dict(trajetoria_two['result']['trajectory'])\n",
    "df_traj_two"
   ]
  },
  {
   "cell_type": "code",
   "execution_count": 11,
   "metadata": {},
   "outputs": [],
   "source": [
    "trajetoria_three = wlts_ob.trajectory(dict(latitude=-10.710, longitude=-55.612, collections='terraclass_amz,mapbiomas_amz_4_1,prodes_amz_legal'))\n",
    "df_traj_three = pd.DataFrame.from_dict(trajetoria_three['result']['trajectory'])"
   ]
  },
  {
   "cell_type": "code",
   "execution_count": 12,
   "metadata": {},
   "outputs": [
    {
     "data": {
      "text/html": [
       "<div>\n",
       "<style scoped>\n",
       "    .dataframe tbody tr th:only-of-type {\n",
       "        vertical-align: middle;\n",
       "    }\n",
       "\n",
       "    .dataframe tbody tr th {\n",
       "        vertical-align: top;\n",
       "    }\n",
       "\n",
       "    .dataframe thead th {\n",
       "        text-align: right;\n",
       "    }\n",
       "</style>\n",
       "<table border=\"1\" class=\"dataframe\">\n",
       "  <thead>\n",
       "    <tr style=\"text-align: right;\">\n",
       "      <th></th>\n",
       "      <th>class</th>\n",
       "      <th>collection</th>\n",
       "      <th>date</th>\n",
       "    </tr>\n",
       "  </thead>\n",
       "  <tbody>\n",
       "    <tr>\n",
       "      <th>0</th>\n",
       "      <td>Pasto Limpo</td>\n",
       "      <td>terraclass_amz</td>\n",
       "      <td>2004</td>\n",
       "    </tr>\n",
       "    <tr>\n",
       "      <th>1</th>\n",
       "      <td>Pastagem</td>\n",
       "      <td>mapbiomas_amz_4_1</td>\n",
       "      <td>2007</td>\n",
       "    </tr>\n",
       "    <tr>\n",
       "      <th>2</th>\n",
       "      <td>Desmatamento</td>\n",
       "      <td>prodes_amz_legal</td>\n",
       "      <td>2007</td>\n",
       "    </tr>\n",
       "    <tr>\n",
       "      <th>3</th>\n",
       "      <td>Pasto Limpo</td>\n",
       "      <td>terraclass_amz</td>\n",
       "      <td>2008</td>\n",
       "    </tr>\n",
       "    <tr>\n",
       "      <th>4</th>\n",
       "      <td>Pastagem</td>\n",
       "      <td>mapbiomas_amz_4_1</td>\n",
       "      <td>2008</td>\n",
       "    </tr>\n",
       "    <tr>\n",
       "      <th>5</th>\n",
       "      <td>Pastagem</td>\n",
       "      <td>mapbiomas_amz_4_1</td>\n",
       "      <td>2009</td>\n",
       "    </tr>\n",
       "    <tr>\n",
       "      <th>6</th>\n",
       "      <td>Pasto Limpo</td>\n",
       "      <td>terraclass_amz</td>\n",
       "      <td>2010</td>\n",
       "    </tr>\n",
       "    <tr>\n",
       "      <th>7</th>\n",
       "      <td>Pastagem</td>\n",
       "      <td>mapbiomas_amz_4_1</td>\n",
       "      <td>2010</td>\n",
       "    </tr>\n",
       "    <tr>\n",
       "      <th>8</th>\n",
       "      <td>Pastagem</td>\n",
       "      <td>mapbiomas_amz_4_1</td>\n",
       "      <td>2011</td>\n",
       "    </tr>\n",
       "    <tr>\n",
       "      <th>9</th>\n",
       "      <td>Pasto Limpo</td>\n",
       "      <td>terraclass_amz</td>\n",
       "      <td>2012</td>\n",
       "    </tr>\n",
       "    <tr>\n",
       "      <th>10</th>\n",
       "      <td>Pastagem</td>\n",
       "      <td>mapbiomas_amz_4_1</td>\n",
       "      <td>2012</td>\n",
       "    </tr>\n",
       "    <tr>\n",
       "      <th>11</th>\n",
       "      <td>Pastagem</td>\n",
       "      <td>mapbiomas_amz_4_1</td>\n",
       "      <td>2013</td>\n",
       "    </tr>\n",
       "    <tr>\n",
       "      <th>12</th>\n",
       "      <td>Pasto Limpo</td>\n",
       "      <td>terraclass_amz</td>\n",
       "      <td>2014</td>\n",
       "    </tr>\n",
       "    <tr>\n",
       "      <th>13</th>\n",
       "      <td>Pastagem</td>\n",
       "      <td>mapbiomas_amz_4_1</td>\n",
       "      <td>2014</td>\n",
       "    </tr>\n",
       "    <tr>\n",
       "      <th>14</th>\n",
       "      <td>Pastagem</td>\n",
       "      <td>mapbiomas_amz_4_1</td>\n",
       "      <td>2015</td>\n",
       "    </tr>\n",
       "    <tr>\n",
       "      <th>15</th>\n",
       "      <td>Pastagem</td>\n",
       "      <td>mapbiomas_amz_4_1</td>\n",
       "      <td>2016</td>\n",
       "    </tr>\n",
       "    <tr>\n",
       "      <th>16</th>\n",
       "      <td>Cultura Anual e Perene</td>\n",
       "      <td>mapbiomas_amz_4_1</td>\n",
       "      <td>2017</td>\n",
       "    </tr>\n",
       "    <tr>\n",
       "      <th>17</th>\n",
       "      <td>Cultura Anual e Perene</td>\n",
       "      <td>mapbiomas_amz_4_1</td>\n",
       "      <td>2018</td>\n",
       "    </tr>\n",
       "  </tbody>\n",
       "</table>\n",
       "</div>"
      ],
      "text/plain": [
       "                     class         collection  date\n",
       "0              Pasto Limpo     terraclass_amz  2004\n",
       "1                 Pastagem  mapbiomas_amz_4_1  2007\n",
       "2             Desmatamento   prodes_amz_legal  2007\n",
       "3              Pasto Limpo     terraclass_amz  2008\n",
       "4                 Pastagem  mapbiomas_amz_4_1  2008\n",
       "5                 Pastagem  mapbiomas_amz_4_1  2009\n",
       "6              Pasto Limpo     terraclass_amz  2010\n",
       "7                 Pastagem  mapbiomas_amz_4_1  2010\n",
       "8                 Pastagem  mapbiomas_amz_4_1  2011\n",
       "9              Pasto Limpo     terraclass_amz  2012\n",
       "10                Pastagem  mapbiomas_amz_4_1  2012\n",
       "11                Pastagem  mapbiomas_amz_4_1  2013\n",
       "12             Pasto Limpo     terraclass_amz  2014\n",
       "13                Pastagem  mapbiomas_amz_4_1  2014\n",
       "14                Pastagem  mapbiomas_amz_4_1  2015\n",
       "15                Pastagem  mapbiomas_amz_4_1  2016\n",
       "16  Cultura Anual e Perene  mapbiomas_amz_4_1  2017\n",
       "17  Cultura Anual e Perene  mapbiomas_amz_4_1  2018"
      ]
     },
     "execution_count": 12,
     "metadata": {},
     "output_type": "execute_result"
    }
   ],
   "source": [
    "df_traj_three"
   ]
  }
 ],
 "metadata": {
  "celltoolbar": "Raw Cell Format",
  "kernelspec": {
   "display_name": "Python 3",
   "language": "python",
   "name": "python3"
  },
  "language_info": {
   "codemirror_mode": {
    "name": "ipython",
    "version": 3
   },
   "file_extension": ".py",
   "mimetype": "text/x-python",
   "name": "python",
   "nbconvert_exporter": "python",
   "pygments_lexer": "ipython3",
   "version": "3.7.5"
  }
 },
 "nbformat": 4,
 "nbformat_minor": 2
}
